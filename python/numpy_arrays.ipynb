{
 "cells": [
  {
   "cell_type": "code",
   "execution_count": 2,
   "metadata": {},
   "outputs": [],
   "source": [
    "import numpy as np\n",
    "import time\n"
   ]
  },
  {
   "cell_type": "markdown",
   "metadata": {},
   "source": [
    "## What is this array declaration doing"
   ]
  },
  {
   "cell_type": "code",
   "execution_count": 3,
   "metadata": {},
   "outputs": [
    {
     "name": "stdout",
     "output_type": "stream",
     "text": [
      "[[1 2]\n",
      " [3 4]]\n"
     ]
    }
   ],
   "source": [
    "myArray = np.array([[1,2], [3,4]])\n",
    "print(myArray)"
   ]
  },
  {
   "cell_type": "markdown",
   "metadata": {},
   "source": [
    "## Numpy provides many fast options for array manipulation"
   ]
  },
  {
   "cell_type": "code",
   "execution_count": 4,
   "metadata": {},
   "outputs": [
    {
     "name": "stdout",
     "output_type": "stream",
     "text": [
      "time taken: 0.0050318241119384766 seconds\n"
     ]
    }
   ],
   "source": [
    "\n",
    "num = 1000\n",
    "a = np.random.rand(num,num)\n",
    "now = time.time()\n",
    "b = a * a\n",
    "then = time.time()\n",
    "\n",
    "print('time taken:', then-now, 'seconds')\n"
   ]
  },
  {
   "cell_type": "code",
   "execution_count": 5,
   "metadata": {},
   "outputs": [
    {
     "name": "stdout",
     "output_type": "stream",
     "text": [
      "time taken: 0.4299967288970947 seconds\n"
     ]
    }
   ],
   "source": [
    "c = np.zeros([num,num])\n",
    "\n",
    "now = time.time()\n",
    "for i in range(a.shape[0]):\n",
    "    for j in range(a.shape[1]):\n",
    "        c[i,j] = a[i,j]*a[i,j]\n",
    "then = time.time()\n",
    "print('time taken:', then-now, 'seconds')\n"
   ]
  },
  {
   "cell_type": "code",
   "execution_count": 6,
   "metadata": {},
   "outputs": [
    {
     "name": "stdout",
     "output_type": "stream",
     "text": [
      "observe that arrays b and c are the same\n",
      "[[0. 0. 0. ... 0. 0. 0.]\n",
      " [0. 0. 0. ... 0. 0. 0.]\n",
      " [0. 0. 0. ... 0. 0. 0.]\n",
      " ...\n",
      " [0. 0. 0. ... 0. 0. 0.]\n",
      " [0. 0. 0. ... 0. 0. 0.]\n",
      " [0. 0. 0. ... 0. 0. 0.]]\n"
     ]
    }
   ],
   "source": [
    "print('observe that arrays b and c are the same')\n",
    "print(b-c)"
   ]
  },
  {
   "cell_type": "markdown",
   "metadata": {},
   "source": [
    "## Broadcasting arrays"
   ]
  },
  {
   "cell_type": "code",
   "execution_count": 7,
   "metadata": {},
   "outputs": [
    {
     "name": "stdout",
     "output_type": "stream",
     "text": [
      "shape of A: (8, 5, 7)\n",
      "shape of B: (5, 1)\n"
     ]
    }
   ],
   "source": [
    "A = np.array(range(8*5*7))\n",
    "A = np.reshape(A, [8, 5, 7])\n",
    "B = np.array([1,2,3,4,5])\n",
    "B = np.reshape(B, [5,1])\n",
    "print('shape of A:',A.shape)\n",
    "print('shape of B:', B.shape)"
   ]
  },
  {
   "cell_type": "code",
   "execution_count": 8,
   "metadata": {},
   "outputs": [
    {
     "name": "stdout",
     "output_type": "stream",
     "text": [
      "First slice of A\n",
      "[[ 0  1  2  3  4  5  6]\n",
      " [ 7  8  9 10 11 12 13]\n",
      " [14 15 16 17 18 19 20]\n",
      " [21 22 23 24 25 26 27]\n",
      " [28 29 30 31 32 33 34]]\n",
      "\n",
      "Vector B\n",
      "[[1]\n",
      " [2]\n",
      " [3]\n",
      " [4]\n",
      " [5]]\n"
     ]
    }
   ],
   "source": [
    "index = 0\n",
    "print('First slice of A')\n",
    "print(A[index])\n",
    "print('')\n",
    "print('Vector B')\n",
    "print(B)"
   ]
  },
  {
   "cell_type": "code",
   "execution_count": 8,
   "metadata": {},
   "outputs": [
    {
     "name": "stdout",
     "output_type": "stream",
     "text": [
      "First Slice of C, where C = A - B\n",
      "[[-1  0  1  2  3  4  5]\n",
      " [ 5  6  7  8  9 10 11]\n",
      " [11 12 13 14 15 16 17]\n",
      " [17 18 19 20 21 22 23]\n",
      " [23 24 25 26 27 28 29]]\n"
     ]
    }
   ],
   "source": [
    "C = A - B\n",
    "print('First Slice of C, where C = A - B')\n",
    "print(C[index])"
   ]
  },
  {
   "cell_type": "markdown",
   "metadata": {},
   "source": [
    "## Can you see how the array subtraction occured"
   ]
  },
  {
   "cell_type": "markdown",
   "metadata": {},
   "source": [
    "## More about arrays"
   ]
  },
  {
   "cell_type": "code",
   "execution_count": 25,
   "metadata": {},
   "outputs": [
    {
     "name": "stdout",
     "output_type": "stream",
     "text": [
      "Integer array\n",
      "[[  1 700]\n",
      " [  3   4]]\n",
      "Float array\n",
      "[[  1. 700.]\n",
      " [  3.   4.]]\n",
      "uint8 array\n",
      "[[  1 188]\n",
      " [  0 255]]\n",
      "Float array\n",
      "[[1. 2.]\n",
      " [3. 4.]]\n",
      "Float array\n",
      "[[1. 2.]\n",
      " [3. 4.]]\n"
     ]
    }
   ],
   "source": [
    "print('Integer array')\n",
    "myArray = np.array([[1,700], [3,4]])\n",
    "print(myArray)\n",
    "\n",
    "print('Float array')\n",
    "myArray = myArray.astype('float')\n",
    "print(myArray)\n",
    "\n",
    "\n",
    "print('uint8 array')\n",
    "myArray = np.array([[1,700], [256,255]], 'uint8')\n",
    "print(myArray)\n",
    "\n",
    "\n",
    "print('Float array')\n",
    "myArray = np.array([[1,2], [3,4]], dtype='float')\n",
    "print(myArray)\n",
    "\n",
    "print('Float array')\n",
    "myArray = np.array([[1.0,2], [3,4]], dtype='float')\n",
    "print(myArray)"
   ]
  },
  {
   "cell_type": "markdown",
   "metadata": {},
   "source": [
    "\n",
    "## Numpy provides many fast, array  manipulation functions.\n",
    "## These functions allow us to control the size of output arrays. This is important for broadcasting\n"
   ]
  },
  {
   "cell_type": "code",
   "execution_count": 8,
   "metadata": {},
   "outputs": [
    {
     "name": "stdout",
     "output_type": "stream",
     "text": [
      "shape of data matrix\n",
      "(1000, 100)\n"
     ]
    }
   ],
   "source": [
    "data = np.random.random([1000,100])\n",
    "print('shape of data matrix')\n",
    "print(data.shape)\n"
   ]
  },
  {
   "cell_type": "code",
   "execution_count": 10,
   "metadata": {},
   "outputs": [
    {
     "name": "stdout",
     "output_type": "stream",
     "text": [
      "take the minimum value in each row\n",
      "(1000,)\n"
     ]
    }
   ],
   "source": [
    "m = np.min(data, axis=1)\n",
    "print('take the minimum value in each row')\n",
    "print(m.shape)\n"
   ]
  },
  {
   "cell_type": "code",
   "execution_count": 11,
   "metadata": {},
   "outputs": [
    {
     "name": "stdout",
     "output_type": "stream",
     "text": [
      "this does not work\n"
     ]
    },
    {
     "ename": "ValueError",
     "evalue": "operands could not be broadcast together with shapes (1000,100) (1000,) ",
     "output_type": "error",
     "traceback": [
      "\u001b[0;31m---------------------------------------------------------------------------\u001b[0m",
      "\u001b[0;31mValueError\u001b[0m                                Traceback (most recent call last)",
      "\u001b[0;32m<ipython-input-11-49a7ca15e699>\u001b[0m in \u001b[0;36m<module>\u001b[0;34m\u001b[0m\n\u001b[1;32m      1\u001b[0m \u001b[0mprint\u001b[0m\u001b[0;34m(\u001b[0m\u001b[0;34m'this does not work'\u001b[0m\u001b[0;34m)\u001b[0m\u001b[0;34m\u001b[0m\u001b[0;34m\u001b[0m\u001b[0m\n\u001b[0;32m----> 2\u001b[0;31m \u001b[0mdata\u001b[0m\u001b[0;34m-\u001b[0m\u001b[0mm\u001b[0m\u001b[0;34m\u001b[0m\u001b[0;34m\u001b[0m\u001b[0m\n\u001b[0m",
      "\u001b[0;31mValueError\u001b[0m: operands could not be broadcast together with shapes (1000,100) (1000,) "
     ]
    }
   ],
   "source": [
    "print('this does not work')\n",
    "data-m\n"
   ]
  },
  {
   "cell_type": "code",
   "execution_count": 12,
   "metadata": {},
   "outputs": [
    {
     "name": "stdout",
     "output_type": "stream",
     "text": [
      "However, this can work\n"
     ]
    },
    {
     "data": {
      "text/plain": [
       "array([[0.40176721, 0.56238451, 0.2257611 , ..., 0.41731349, 0.37000143,\n",
       "        0.57259619],\n",
       "       [0.5766069 , 0.50246475, 0.07622123, ..., 0.92864077, 0.28942509,\n",
       "        0.48292137],\n",
       "       [0.23366729, 0.09847839, 0.88483767, ..., 0.05734237, 0.09917095,\n",
       "        0.09440202],\n",
       "       ...,\n",
       "       [0.68979375, 0.65345273, 0.43356701, ..., 0.21710438, 0.57459514,\n",
       "        0.49434184],\n",
       "       [0.51005637, 0.70156168, 0.32494137, ..., 0.32019552, 0.65872564,\n",
       "        0.79056542],\n",
       "       [0.69623255, 0.45648305, 0.48302211, ..., 0.45292422, 0.05547434,\n",
       "        0.20156482]])"
      ]
     },
     "execution_count": 12,
     "metadata": {},
     "output_type": "execute_result"
    }
   ],
   "source": [
    "print('However, this can work')\n",
    "m = np.min(data, axis=1, keepdims=True)\n",
    "data - m"
   ]
  },
  {
   "cell_type": "code",
   "execution_count": 13,
   "metadata": {},
   "outputs": [
    {
     "data": {
      "text/plain": [
       "(1000, 1)"
      ]
     },
     "execution_count": 13,
     "metadata": {},
     "output_type": "execute_result"
    }
   ],
   "source": [
    "m.shape"
   ]
  }
 ],
 "metadata": {
  "kernelspec": {
   "display_name": "Python 3 (ipykernel)",
   "language": "python",
   "name": "python3"
  },
  "language_info": {
   "codemirror_mode": {
    "name": "ipython",
    "version": 3
   },
   "file_extension": ".py",
   "mimetype": "text/x-python",
   "name": "python",
   "nbconvert_exporter": "python",
   "pygments_lexer": "ipython3",
   "version": "3.9.2"
  }
 },
 "nbformat": 4,
 "nbformat_minor": 4
}
