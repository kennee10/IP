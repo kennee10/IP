{
 "cells": [
  {
   "cell_type": "code",
   "execution_count": 15,
   "metadata": {},
   "outputs": [
    {
     "name": "stdout",
     "output_type": "stream",
     "text": [
      "original value of a is: 5\n",
      "5 diff\n",
      "final value of a is: 5\n"
     ]
    }
   ],
   "source": [
    "import numpy as np\n",
    "\n",
    "# ? since assigning a string to b is O(1) complexity, it'll will be a copy, not a reference\n",
    "def testFunc1(b):\n",
    "    b = 'diff'\n",
    "    print(a, b)\n",
    "    \n",
    "a = 5\n",
    "print('original value of a is:', a)\n",
    "testFunc1(a)\n",
    "print('final value of a is:', a)"
   ]
  },
  {
   "cell_type": "code",
   "execution_count": 9,
   "metadata": {},
   "outputs": [
    {
     "name": "stdout",
     "output_type": "stream",
     "text": [
      "original value of a is: [1, 2, 'dog']\n",
      "final value of a is: ['cat', 2, 'dog']\n"
     ]
    }
   ],
   "source": [
    "def testFunc2(b):\n",
    "    b[0] = 'cat'\n",
    "    \n",
    "a = [1, 2, 'dog']\n",
    "print('original value of a is:', a)\n",
    "testFunc2(a)\n",
    "print('final value of a is:', a)\n"
   ]
  },
  {
   "cell_type": "code",
   "execution_count": 10,
   "metadata": {},
   "outputs": [
    {
     "name": "stdout",
     "output_type": "stream",
     "text": [
      "original value of a is: [1, 2, 'dog']\n",
      "final value of a is: ['cat', 2, 'dog']\n"
     ]
    }
   ],
   "source": [
    "def testFunc3(b):\n",
    "    c = b\n",
    "    c[0] = 'cat'\n",
    "    \n",
    "a = [1, 2, 'dog']\n",
    "print('original value of a is:', a)\n",
    "testFunc3(a)\n",
    "print('final value of a is:', a)\n"
   ]
  },
  {
   "cell_type": "code",
   "execution_count": 11,
   "metadata": {},
   "outputs": [
    {
     "name": "stdout",
     "output_type": "stream",
     "text": [
      "original value of a is: [1 2 3]\n",
      "final value of a is: [1 2 3]\n"
     ]
    }
   ],
   "source": [
    "def testFunc4(b):\n",
    "    c = b + 0\n",
    "    c[0] = 100\n",
    "    \n",
    "a = np.array([1, 2, 3])\n",
    "print('original value of a is:', a)\n",
    "testFunc4(a)\n",
    "print('final value of a is:', a)\n"
   ]
  },
  {
   "cell_type": "code",
   "execution_count": 12,
   "metadata": {},
   "outputs": [
    {
     "name": "stdout",
     "output_type": "stream",
     "text": [
      "original value of a is: [1 2 3]\n",
      "final value of a is: [1 2 3]\n"
     ]
    }
   ],
   "source": [
    "def testFunc5(b):\n",
    "    c = b.copy()\n",
    "    c[0] = 100\n",
    "    \n",
    "a = np.array([1, 2, 3])\n",
    "print('original value of a is:', a)\n",
    "testFunc5(a)\n",
    "print('final value of a is:', a)\n"
   ]
  },
  {
   "cell_type": "code",
   "execution_count": null,
   "metadata": {},
   "outputs": [],
   "source": []
  },
  {
   "cell_type": "code",
   "execution_count": null,
   "metadata": {},
   "outputs": [],
   "source": []
  }
 ],
 "metadata": {
  "kernelspec": {
   "display_name": "Python 3 (ipykernel)",
   "language": "python",
   "name": "python3"
  },
  "language_info": {
   "codemirror_mode": {
    "name": "ipython",
    "version": 3
   },
   "file_extension": ".py",
   "mimetype": "text/x-python",
   "name": "python",
   "nbconvert_exporter": "python",
   "pygments_lexer": "ipython3",
   "version": "3.9.2"
  }
 },
 "nbformat": 4,
 "nbformat_minor": 4
}
